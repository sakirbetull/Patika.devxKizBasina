{
 "cells": [
  {
   "cell_type": "code",
   "execution_count": 1,
   "id": "40b430b0",
   "metadata": {},
   "outputs": [],
   "source": [
    "import numpy as np\n",
    "import pandas as pd"
   ]
  },
  {
   "cell_type": "markdown",
   "id": "9dfb93b6",
   "metadata": {},
   "source": [
    "girilen sayının pozitif, negatif veya sıfır olduğunu yazan koşul\n",
    "girilen sayının tek mi çift mi olduğunu yazan koşul\n",
    "Girilen nota göre harf aralığını yazan koşul (80-100 A, 60-80 B vs.)\n",
    "Girilen ismin karakter sayısı 5den büyükse \"uzun bir isminiz var\" değilse ismini yazsın\n",
    "girilen sayının asal olup olmadığını bulan kod dizisi. (for ve while)\n",
    "notlar=[45,85,75,50] içinde 75 değerinin indisini yazdıran döngü\n",
    "girilen sayının faktöriyelini alalım. (for ve while)\n",
    "Kullanıcıdan pozitif bir sayı bekleyen, pozitifi de gördüğü an bastıran, negatif sayı girildikçe bir daha soran yapı kuralım. (for döngüsü ile)\n",
    "fonksiyon ile girilen sayının asal olup olmadığını bulan kod dizisi. (for ve while)\n",
    "fonksiyon ile girilen sayının faktöriyelini alalım. (for ve while)"
   ]
  },
  {
   "cell_type": "code",
   "execution_count": 3,
   "id": "3d4a4221",
   "metadata": {},
   "outputs": [
    {
     "name": "stdout",
     "output_type": "stream",
     "text": [
      "Pozitif\n"
     ]
    }
   ],
   "source": [
    "# girilen sayının pozitif, negatif veya 0\n",
    "sayı = int(input('Lütfen bir sayı giriniz: '))\n",
    "if sayı > 0:\n",
    "  print('Pozitif')\n",
    "elif sayı < 0:\n",
    "  print('Negatif')\n",
    "else:\n",
    "  print('Sıfır')"
   ]
  },
  {
   "cell_type": "code",
   "execution_count": 4,
   "id": "6709ea84",
   "metadata": {},
   "outputs": [
    {
     "name": "stdout",
     "output_type": "stream",
     "text": [
      "Çift\n"
     ]
    }
   ],
   "source": [
    "# girilen sayının tek mi çift mi olduğunu yazan kod\n",
    "sayı = int(input('Lütfen bir sayı giriniz: '))\n",
    "if sayı % 2 == 0:\n",
    "  print('Çift')\n",
    "else:\n",
    "  print('Tek')"
   ]
  },
  {
   "cell_type": "code",
   "execution_count": 6,
   "id": "8fce0d34",
   "metadata": {},
   "outputs": [
    {
     "name": "stdout",
     "output_type": "stream",
     "text": [
      "AA\n"
     ]
    }
   ],
   "source": [
    "# girilen nota göre harf\n",
    "not_ = int(input('Lütfen bir nota giriniz: '))\n",
    "if not_ >= 90:\n",
    "  print('AA')\n",
    "elif not_ >= 85:\n",
    "  print('BA')\n",
    "elif not_ >= 80:\n",
    "  print('BB')\n",
    "elif not_ >= 75:\n",
    "  print('CB')\n",
    "elif not_ >= 70:\n",
    "  print('CC')\n",
    "else:\n",
    "  print('FF')"
   ]
  },
  {
   "cell_type": "code",
   "execution_count": 7,
   "id": "03048551",
   "metadata": {},
   "outputs": [
    {
     "name": "stdout",
     "output_type": "stream",
     "text": [
      "betül\n"
     ]
    }
   ],
   "source": [
    "# girilen isim karakteri 5 den büyükse\n",
    "isim = input('Lütfen bir isim giriniz: ')\n",
    "if len(isim) > 5:\n",
    "  print('uzun bir isminiz var')\n",
    "else:\n",
    "  print(isim)"
   ]
  },
  {
   "cell_type": "code",
   "execution_count": 9,
   "id": "aec03d9e",
   "metadata": {},
   "outputs": [
    {
     "name": "stdout",
     "output_type": "stream",
     "text": [
      "Asal\n"
     ]
    }
   ],
   "source": [
    "# for ile girilen sayının asal olup olmadığını yazan kod\n",
    "sayı = int(input('Lütfen bir sayı giriniz: '))\n",
    "for i in range(2, sayı):\n",
    "    if sayı % i == 0:\n",
    "        print('Asal değil')\n",
    "        break\n",
    "else:\n",
    "    print('Asal')"
   ]
  },
  {
   "cell_type": "code",
   "execution_count": 10,
   "id": "943b7a02",
   "metadata": {},
   "outputs": [
    {
     "name": "stdout",
     "output_type": "stream",
     "text": [
      "Asal değil\n"
     ]
    }
   ],
   "source": [
    "sayı = int(input('Lütfen bir sayı giriniz: '))\n",
    "i = 2\n",
    "asal = True\n",
    "\n",
    "while i < sayı:\n",
    "    if sayı % i == 0:\n",
    "        asal = False\n",
    "        break\n",
    "    i += 1\n",
    "\n",
    "if sayı <= 1:\n",
    "    print(\"Asal değil\")\n",
    "elif asal:\n",
    "    print(\"Asal\")\n",
    "else:\n",
    "    print(\"Asal değil\")"
   ]
  },
  {
   "cell_type": "code",
   "execution_count": 11,
   "id": "42cac637",
   "metadata": {},
   "outputs": [
    {
     "name": "stdout",
     "output_type": "stream",
     "text": [
      "2\n"
     ]
    }
   ],
   "source": [
    "notlar = [45, 85, 75, 50]\n",
    "\n",
    "for i, değer in enumerate(notlar):\n",
    "    if değer == 75:\n",
    "        print(i)"
   ]
  },
  {
   "cell_type": "code",
   "execution_count": 12,
   "id": "33d45e18",
   "metadata": {},
   "outputs": [
    {
     "name": "stdout",
     "output_type": "stream",
     "text": [
      "5040\n"
     ]
    }
   ],
   "source": [
    "# for ile sayının faktöriyelini alalım\n",
    "sayı = int(input('Lütfen bir sayı giriniz: '))\n",
    "faktoriyel = 1\n",
    "for i in range(1, sayı+1):\n",
    "  faktoriyel *= i\n",
    "print(faktoriyel)"
   ]
  },
  {
   "cell_type": "code",
   "execution_count": 13,
   "id": "d54f5601",
   "metadata": {},
   "outputs": [
    {
     "name": "stdout",
     "output_type": "stream",
     "text": [
      "5040\n"
     ]
    }
   ],
   "source": [
    "# while ile sayının faktörüyelini alalım\n",
    "sayı = int(input('Lütfen bir sayı giriniz: '))\n",
    "faktoriyel = 1\n",
    "i = 1\n",
    "while i <= sayı:\n",
    "  faktoriyel *= i\n",
    "  i += 1\n",
    "print(faktoriyel)"
   ]
  },
  {
   "cell_type": "code",
   "execution_count": 14,
   "id": "10410adb",
   "metadata": {},
   "outputs": [
    {
     "name": "stdout",
     "output_type": "stream",
     "text": [
      "Negatif sayı girdiniz, tekrar deneyin.\n",
      "Girdiğiniz sayı: 9\n"
     ]
    }
   ],
   "source": [
    "# kullanıcıdan sayı isteyen pozitif ise bastıran negatif ise tekrar sayı isteyen for döngüsü ile\n",
    "for _ in range(100):  # 100 denemeye kadar izin veriyoruz\n",
    "    sayı = int(input(\"Pozitif bir sayı girin: \"))\n",
    "    if sayı > 0:\n",
    "        print(\"Girdiğiniz sayı:\", sayı)\n",
    "        break\n",
    "    else:\n",
    "        print(\"Negatif sayı girdiniz, tekrar deneyin.\")\n",
    "\n",
    "\n"
   ]
  },
  {
   "cell_type": "code",
   "execution_count": 15,
   "id": "7ccb8edb",
   "metadata": {},
   "outputs": [
    {
     "name": "stdout",
     "output_type": "stream",
     "text": [
      "120\n"
     ]
    }
   ],
   "source": [
    "# fonksiyon sayının faktöriyelini alalım\n",
    "def faktoriyel(sayı):\n",
    "  faktoriyel = 1\n",
    "  for i in range(1, sayı+1):\n",
    "    faktoriyel *= i\n",
    "  return faktoriyel\n",
    "print(faktoriyel(5))"
   ]
  },
  {
   "cell_type": "code",
   "execution_count": 16,
   "id": "4a19b9fc",
   "metadata": {},
   "outputs": [
    {
     "name": "stdout",
     "output_type": "stream",
     "text": [
      "True\n"
     ]
    }
   ],
   "source": [
    "# fonksiyon ile sayının asal olup olmadığı\n",
    "def asal_mi(sayı):\n",
    "  for i in range(2, sayı):\n",
    "    if sayı % i == 0:\n",
    "      return False\n",
    "  return True\n",
    "print(asal_mi(5))"
   ]
  },
  {
   "cell_type": "code",
   "execution_count": null,
   "id": "ea4b565c",
   "metadata": {},
   "outputs": [],
   "source": []
  }
 ],
 "metadata": {
  "kernelspec": {
   "display_name": "Python 3",
   "language": "python",
   "name": "python3"
  },
  "language_info": {
   "codemirror_mode": {
    "name": "ipython",
    "version": 3
   },
   "file_extension": ".py",
   "mimetype": "text/x-python",
   "name": "python",
   "nbconvert_exporter": "python",
   "pygments_lexer": "ipython3",
   "version": "3.13.2"
  }
 },
 "nbformat": 4,
 "nbformat_minor": 5
}
